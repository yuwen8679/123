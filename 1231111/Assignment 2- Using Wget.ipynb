{
 "cells": [
  {
   "cell_type": "markdown",
   "id": "cardiovascular-sleep",
   "metadata": {},
   "source": [
    "# Assignment 2- Using Wget"
   ]
  },
  {
   "cell_type": "markdown",
   "id": "boolean-equity",
   "metadata": {},
   "source": [
    "#### Student:Yu-Wen Chen"
   ]
  },
  {
   "cell_type": "markdown",
   "id": "occupied-sperm",
   "metadata": {},
   "source": [
    "#### Professor James Hetrick"
   ]
  },
  {
   "cell_type": "markdown",
   "id": "pleased-element",
   "metadata": {},
   "source": [
    "#### ANLT 210 Software Methods Spring 2021"
   ]
  },
  {
   "cell_type": "markdown",
   "id": "fluid-opening",
   "metadata": {},
   "source": [
    "#### Feburary 17, 2021"
   ]
  },
  {
   "cell_type": "markdown",
   "id": "motivated-strike",
   "metadata": {},
   "source": [
    "### Task 1"
   ]
  },
  {
   "cell_type": "markdown",
   "id": "fuzzy-status",
   "metadata": {},
   "source": [
    "#### 1. Make a folder called PDF.\n"
   ]
  },
  {
   "cell_type": "code",
   "execution_count": null,
   "id": "electrical-rally",
   "metadata": {},
   "outputs": [],
   "source": [
    "#Go to desktop\n",
    "cd Desktop\n",
    "#Create the folder called PDF\n",
    "mkdir PDF"
   ]
  },
  {
   "cell_type": "markdown",
   "id": "personal-threshold",
   "metadata": {},
   "source": [
    "#### 2. Download the .pdf files into the PDF directory."
   ]
  },
  {
   "cell_type": "code",
   "execution_count": null,
   "id": "economic-automation",
   "metadata": {},
   "outputs": [],
   "source": [
    "#Download the .pdf file\n",
    "wget -r -A.pdf http://www.jhetrick.io/ANLT210/lotsoffiles/\n",
    "#Move all the pdf file to the folder we just created\n",
    "mv ~/Desktop/www.jhetrick.io/ANLT210/lotsoffiles/*pdf ~/Desktop/PDF/\n",
    "#Go to www.jhetrick.io\n",
    "cd www.jhetrick.io\n",
    "#Remove everything inside\n",
    "rm -rf *\n",
    "#Go back to desktop\n",
    "cd ..\n",
    "#remove that folder\n",
    "rmdir www.jhetrick.io"
   ]
  },
  {
   "cell_type": "markdown",
   "id": "violent-content",
   "metadata": {},
   "source": [
    "### Task 2"
   ]
  },
  {
   "cell_type": "markdown",
   "id": "parental-simpson",
   "metadata": {},
   "source": [
    "#### 1. Make a folder called TXT."
   ]
  },
  {
   "cell_type": "code",
   "execution_count": null,
   "id": "parallel-restoration",
   "metadata": {},
   "outputs": [],
   "source": [
    "#Go to desktop\n",
    "cd Desktop\n",
    "#Create the folder called PDF\n",
    "mkdir TXT"
   ]
  },
  {
   "cell_type": "markdown",
   "id": "careful-satisfaction",
   "metadata": {},
   "source": [
    "#### 2. Download all, of the .txt files."
   ]
  },
  {
   "cell_type": "code",
   "execution_count": null,
   "id": "subject-publication",
   "metadata": {},
   "outputs": [],
   "source": [
    "#Download the .pdf file\n",
    "wget -r -A.txt http://www.jhetrick.io/ANLT210/lotsoffiles/\n",
    "#Move all the pdf file to the folder we just created\n",
    "mv ~/Desktop/www.jhetrick.io/ANLT210/lotsoffiles/*txt ~/Desktop/TXT/\n",
    "#Go to www.jhetrick.io\n",
    "cd www.jhetrick.io\n",
    "#Remove everything inside\n",
    "rm -rf *\n",
    "#Go back to desktop\n",
    "cd ..\n",
    "#remove that folder\n",
    "rmdir www.jhetrick.io"
   ]
  },
  {
   "cell_type": "markdown",
   "id": "proprietary-trail",
   "metadata": {},
   "source": [
    "#### 3. Which TXT  file is different from the others? What is different about it?"
   ]
  },
  {
   "cell_type": "code",
   "execution_count": null,
   "id": "funded-smooth",
   "metadata": {},
   "outputs": [],
   "source": [
    "#Print out all the information of the files\n",
    "ll"
   ]
  },
  {
   "cell_type": "code",
   "execution_count": null,
   "id": "annoying-dealer",
   "metadata": {},
   "outputs": [],
   "source": [
    "file79.txt is the only one that the file size is 735"
   ]
  }
 ],
 "metadata": {
  "kernelspec": {
   "display_name": "Python 3",
   "language": "python",
   "name": "python3"
  },
  "language_info": {
   "codemirror_mode": {
    "name": "ipython",
    "version": 3
   },
   "file_extension": ".py",
   "mimetype": "text/x-python",
   "name": "python",
   "nbconvert_exporter": "python",
   "pygments_lexer": "ipython3",
   "version": "3.8.5"
  }
 },
 "nbformat": 4,
 "nbformat_minor": 5
}
